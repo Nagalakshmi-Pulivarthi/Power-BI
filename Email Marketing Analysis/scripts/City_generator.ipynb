{
 "cells": [
  {
   "cell_type": "code",
   "execution_count": 47,
   "id": "58ba617d",
   "metadata": {},
   "outputs": [],
   "source": [
    "import pandas as pd\n",
    "postal_code_df=pd.read_csv(\"Postalcodes.csv\")"
   ]
  },
  {
   "cell_type": "code",
   "execution_count": 48,
   "id": "037d511d",
   "metadata": {},
   "outputs": [
    {
     "name": "stdout",
     "output_type": "stream",
     "text": [
      "0     248001\n",
      "1     829121\n",
      "2     272182\n",
      "3     396001\n",
      "4     500018\n",
      "       ...  \n",
      "67    400064\n",
      "68    500089\n",
      "69    502032\n",
      "70    500062\n",
      "71    500020\n",
      "Name: PostalCode, Length: 72, dtype: object\n"
     ]
    }
   ],
   "source": [
    "postal_code_df.head()\n",
    "postal_code_df['PostalCode'] = postal_code_df['PostalCode'].astype(str)\n",
    "postalcode_list=postal_code_df['PostalCode']\n",
    "print(postalcode_list)"
   ]
  },
  {
   "cell_type": "code",
   "execution_count": null,
   "id": "03cc6ca3",
   "metadata": {},
   "outputs": [],
   "source": [
    "def get_location(postalcode_list):\n",
    "    \"\"\"Fetch city and state for a given list of zip codes and store in CSV.\"\"\"\n",
    "    data = []\n",
    "    \n",
    "    for postalcode in postalcode_list:\n",
    "        location = geolocator.geocode(postalcode)\n",
    "        if location:\n",
    "            data.append({\"Posatlcode\": postalcode, \"City\": location[0].split(\",\")[1] ,\"State\":location[0].split(\",\")[2]})\n",
    "        else:\n",
    "            data.append({\"PostalCode\": postalcode, \"Address\": \"Not Found\"})\n",
    "        \n",
    "        \n",
    "       \n",
    "    \n",
    "    return data\n",
    "\n",
    "# # # Get locations\n",
    "locations = get_location(postalcode_list)\n",
    "print(locations)\n",
    "\n",
    "\n",
    "df=pd.DateFrame(locations)\n",
    "# Save to CSV\n",
    "df.to_csv(\"citieslist.csv\", index=False)"
   ]
  },
  {
   "cell_type": "code",
   "execution_count": 75,
   "id": "22b5795e",
   "metadata": {},
   "outputs": [
    {
     "data": {
      "text/html": [
       "<div>\n",
       "<style scoped>\n",
       "    .dataframe tbody tr th:only-of-type {\n",
       "        vertical-align: middle;\n",
       "    }\n",
       "\n",
       "    .dataframe tbody tr th {\n",
       "        vertical-align: top;\n",
       "    }\n",
       "\n",
       "    .dataframe thead th {\n",
       "        text-align: right;\n",
       "    }\n",
       "</style>\n",
       "<table border=\"1\" class=\"dataframe\">\n",
       "  <thead>\n",
       "    <tr style=\"text-align: right;\">\n",
       "      <th></th>\n",
       "      <th>Zipcode</th>\n",
       "      <th>City</th>\n",
       "      <th>State</th>\n",
       "    </tr>\n",
       "  </thead>\n",
       "  <tbody>\n",
       "    <tr>\n",
       "      <th>0</th>\n",
       "      <td>248001</td>\n",
       "      <td>Dehradun</td>\n",
       "      <td>Uttarakhand</td>\n",
       "    </tr>\n",
       "    <tr>\n",
       "      <th>1</th>\n",
       "      <td>829121</td>\n",
       "      <td>Peterwar</td>\n",
       "      <td>Bokaro</td>\n",
       "    </tr>\n",
       "    <tr>\n",
       "      <th>2</th>\n",
       "      <td>272182</td>\n",
       "      <td>Harraiya</td>\n",
       "      <td>Basti</td>\n",
       "    </tr>\n",
       "    <tr>\n",
       "      <th>3</th>\n",
       "      <td>396001</td>\n",
       "      <td>Valsad Taluka</td>\n",
       "      <td>Valsad</td>\n",
       "    </tr>\n",
       "    <tr>\n",
       "      <th>4</th>\n",
       "      <td>500018</td>\n",
       "      <td>Ward 101 Erragadda</td>\n",
       "      <td>Greater Hyderabad Municipal Corporation Centr...</td>\n",
       "    </tr>\n",
       "  </tbody>\n",
       "</table>\n",
       "</div>"
      ],
      "text/plain": [
       "  Zipcode                 City  \\\n",
       "0  248001             Dehradun   \n",
       "1  829121             Peterwar   \n",
       "2  272182             Harraiya   \n",
       "3  396001        Valsad Taluka   \n",
       "4  500018   Ward 101 Erragadda   \n",
       "\n",
       "                                               State  \n",
       "0                                        Uttarakhand  \n",
       "1                                             Bokaro  \n",
       "2                                              Basti  \n",
       "3                                             Valsad  \n",
       "4   Greater Hyderabad Municipal Corporation Centr...  "
      ]
     },
     "execution_count": 75,
     "metadata": {},
     "output_type": "execute_result"
    }
   ],
   "source": [
    "df.head(5)"
   ]
  },
  {
   "cell_type": "code",
   "execution_count": null,
   "id": "960d6004",
   "metadata": {},
   "outputs": [],
   "source": []
  }
 ],
 "metadata": {
  "kernelspec": {
   "display_name": "Python 3 (ipykernel)",
   "language": "python",
   "name": "python3"
  },
  "language_info": {
   "codemirror_mode": {
    "name": "ipython",
    "version": 3
   },
   "file_extension": ".py",
   "mimetype": "text/x-python",
   "name": "python",
   "nbconvert_exporter": "python",
   "pygments_lexer": "ipython3",
   "version": "3.11.5"
  }
 },
 "nbformat": 4,
 "nbformat_minor": 5
}
